{
 "cells": [
  {
   "cell_type": "code",
   "execution_count": null,
   "id": "16135194",
   "metadata": {},
   "outputs": [],
   "source": [
    "import os\n",
    "import numpy as np\n",
    "import scipy.io\n",
    "from mne import filter\n",
    "from mne.time_frequency import psd_array_multitaper\n",
    "from sklearn.model_selection import train_test_split\n",
    "from sklearn.svm import SVC\n",
    "from sklearn.ensemble import RandomForestClassifier, GradientBoostingClassifier\n",
    "from sklearn.neighbors import KNeighborsClassifier\n",
    "from sklearn.metrics import accuracy_score, ConfusionMatrixDisplay\n",
    "import tensorflow as tf\n",
    "import matplotlib.pyplot as plt"
   ]
  },
  {
   "cell_type": "code",
   "execution_count": null,
   "id": "b6f2b5e6",
   "metadata": {},
   "outputs": [],
   "source": [
    "# Define directories\n",
    "audio_directory = 'E:/Research/EEG_Data/pre_iso-ano/Final_preposed_iso'\n",
    "visual_directory = 'E:/Research/EEG_Data/pre_iso-ano/Final_preposed_ano'\n",
    "\n",
    "# Helper function for band power calculation\n",
    "def calc_band_power(psd_data, freqs, band):\n",
    "    idx_band = np.logical_and(freqs >= band[0], freqs <= band[1])\n",
    "    return np.mean(psd_data[:, idx_band], axis=1)\n",
    "\n",
    "# Initialize variables to store cumulative power spectra and feature data\n",
    "features = {\n",
    "    'iso_theta': [], 'iso_alpha': [], 'iso_beta': [], 'iso_gamma': [], 'iso_delta': [],\n",
    "    'ano_theta': [], 'ano_alpha': [], 'ano_beta': [], 'ano_gamma': [], 'ano_delta': []\n",
    "}\n",
    "\n",
    "def load_and_preprocess(directory, feature_key):\n",
    "    cumulative_psd = None\n",
    "    files = [os.path.join(directory, f) for f in os.listdir(directory) if f.endswith('.mat')]\n",
    "    \n",
    "    for file in files:\n",
    "        data = scipy.io.loadmat(file)['data']\n",
    "        \n",
    "        # Apply notch filter at 60 Hz\n",
    "        data_filtered = filter.notch_filter(data, Fs=1000, freqs=60)\n",
    "        \n",
    "        # Compute PSD (Power Spectral Density)\n",
    "        psd, freqs = psd_array_multitaper(data_filtered, sfreq=1000, fmin=0.1, fmax=100)\n",
    "        \n",
    "        # Accumulate PSD for averaging\n",
    "        if cumulative_psd is None:\n",
    "            cumulative_psd = psd\n",
    "        else:\n",
    "            cumulative_psd += psd\n",
    "        \n",
    "        # Extract band powers\n",
    "        features[feature_key + '_theta'].append(calc_band_power(psd, freqs, [4, 8]))\n",
    "        features[feature_key + '_alpha'].append(calc_band_power(psd, freqs, [8, 12]))\n",
    "        features[feature_key + '_beta'].append(calc_band_power(psd, freqs, [13, 30]))\n",
    "        features[feature_key + '_gamma'].append(calc_band_power(psd, freqs, [30, 100]))\n",
    "        features[feature_key + '_delta'].append(calc_band_power(psd, freqs, [0.5, 4]))\n",
    "    \n",
    "    return cumulative_psd / len(files)"
   ]
  },
  {
   "cell_type": "code",
   "execution_count": null,
   "id": "475cc9db",
   "metadata": {},
   "outputs": [],
   "source": [
    "# Process iso and ano data\n",
    "cumulative_psd_iso = load_and_preprocess(audio_directory, 'iso')\n",
    "cumulative_psd_ano = load_and_preprocess(visual_directory, 'ano')\n",
    "\n",
    "# Convert features to numpy arrays\n",
    "X = np.hstack([np.array(features[key]) for key in features.keys()])\n",
    "y = np.array([0] * len(features['iso_theta']) + [1] * len(features['ano_theta']))  # Assuming 0 for iso, 1 for ano\n",
    "\n",
    "# Split Data into Training and Testing Sets\n",
    "X_train, X_test, y_train, y_test = train_test_split(X, y, test_size=0.2, random_state=42)"
   ]
  },
  {
   "cell_type": "code",
   "execution_count": null,
   "id": "8ffe816c",
   "metadata": {},
   "outputs": [],
   "source": [
    "# SVM Model\n",
    "svm_model = SVC(kernel='rbf', probability=True)\n",
    "svm_model.fit(X_train, y_train)\n",
    "y_pred_svm = svm_model.predict(X_test)"
   ]
  },
  {
   "cell_type": "code",
   "execution_count": null,
   "id": "ca10b8b0",
   "metadata": {},
   "outputs": [],
   "source": [
    "# Random Forest Model\n",
    "rf_model = RandomForestClassifier(n_estimators=100, random_state=42)\n",
    "rf_model.fit(X_train, y_train)\n",
    "y_pred_rf = rf_model.predict(X_test)"
   ]
  },
  {
   "cell_type": "code",
   "execution_count": null,
   "id": "f1ed03cb",
   "metadata": {},
   "outputs": [],
   "source": [
    "# KNN Model\n",
    "knn_model = KNeighborsClassifier(n_neighbors=5)\n",
    "knn_model.fit(X_train, y_train)\n",
    "y_pred_knn = knn_model.predict(X_test)"
   ]
  },
  {
   "cell_type": "code",
   "execution_count": null,
   "id": "e53d9355",
   "metadata": {},
   "outputs": [],
   "source": [
    "# Gradient Boosting Machine (GBM) Model\n",
    "gbm_model = GradientBoostingClassifier(n_estimators=100, learning_rate=0.1, random_state=42)\n",
    "gbm_model.fit(X_train, y_train)\n",
    "y_pred_gbm = gbm_model.predict(X_test)"
   ]
  },
  {
   "cell_type": "code",
   "execution_count": null,
   "id": "7b8403b0",
   "metadata": {},
   "outputs": [],
   "source": [
    "# DNN Model using TensorFlow/Keras\n",
    "dnn_model = tf.keras.Sequential([\n",
    "    tf.keras.layers.Dense(128, activation='relu', input_shape=(X_train.shape[1],)),\n",
    "    tf.keras.layers.Dropout(0.5),\n",
    "    tf.keras.layers.Dense(64, activation='relu'),\n",
    "    tf.keras.layers.Dense(2, activation='softmax')\n",
    "])\n",
    "\n",
    "dnn_model.compile(optimizer='adam', loss='sparse_categorical_crossentropy', metrics=['accuracy'])\n",
    "dnn_model.fit(X_train, y_train, epochs=20, batch_size=64, validation_data=(X_test, y_test))\n",
    "\n",
    "y_pred_dnn = np.argmax(dnn_model.predict(X_test), axis=1)"
   ]
  },
  {
   "cell_type": "code",
   "execution_count": null,
   "id": "2bc20fa4",
   "metadata": {},
   "outputs": [],
   "source": [
    "# CNN Model using TensorFlow/Keras\n",
    "X_train_cnn = X_train.reshape(X_train.shape[0], X_train.shape[1], 1)\n",
    "X_test_cnn = X_test.reshape(X_test.shape[0], X_test.shape[1], 1)\n",
    "\n",
    "cnn_model = tf.keras.Sequential([\n",
    "    tf.keras.layers.Conv1D(16, 3, padding='same', activation='relu', input_shape=(X_train.shape[1], 1)),\n",
    "    tf.keras.layers.BatchNormalization(),\n",
    "    tf.keras.layers.Flatten(),\n",
    "    tf.keras.layers.Dense(2, activation='softmax')\n",
    "])\n",
    "\n",
    "cnn_model.compile(optimizer='adam', loss='sparse_categorical_crossentropy', metrics=['accuracy'])\n",
    "cnn_model.fit(X_train_cnn, y_train, epochs=20, batch_size=64, validation_data=(X_test_cnn, y_test))\n",
    "\n",
    "y_pred_cnn = np.argmax(cnn_model.predict(X_test_cnn), axis=1)"
   ]
  },
  {
   "cell_type": "code",
   "execution_count": null,
   "id": "31e98195",
   "metadata": {},
   "outputs": [],
   "source": [
    "# Accuracy Calculation and Confusion Matrix Plotting\n",
    "models = {\n",
    "    'SVM': y_pred_svm,\n",
    "    'Random Forest': y_pred_rf,\n",
    "    'KNN': y_pred_knn,\n",
    "    'GBM': y_pred_gbm,\n",
    "    'DNN': y_pred_dnn,\n",
    "    'CNN': y_pred_cnn\n",
    "}\n",
    "\n",
    "for model_name, y_pred in models.items():\n",
    "    accuracy = accuracy_score(y_test, y_pred)\n",
    "    print(f'Accuracy of {model_name}: {accuracy * 100:.2f}%')\n",
    "    ConfusionMatrixDisplay.from_predictions(y_test, y_pred)\n",
    "    plt.title(f'Confusion Matrix for {model_name}')\n",
    "    plt.show()"
   ]
  },
  {
   "cell_type": "code",
   "execution_count": null,
   "id": "c52feaab",
   "metadata": {},
   "outputs": [],
   "source": [
    "# Plot Model Accuracy Comparison\n",
    "accuracies = [accuracy_score(y_test, y_pred) for y_pred in models.values()]\n",
    "plt.figure()\n",
    "plt.bar(models.keys(), [acc * 100 for acc in accuracies])\n",
    "plt.ylabel('Accuracy (%)')\n",
    "plt.title('Model Accuracy Comparison')\n",
    "plt.show()\n"
   ]
  }
 ],
 "metadata": {
  "kernelspec": {
   "display_name": "Python 3 (ipykernel)",
   "language": "python",
   "name": "python3"
  },
  "language_info": {
   "codemirror_mode": {
    "name": "ipython",
    "version": 3
   },
   "file_extension": ".py",
   "mimetype": "text/x-python",
   "name": "python",
   "nbconvert_exporter": "python",
   "pygments_lexer": "ipython3",
   "version": "3.11.5"
  },
  "varInspector": {
   "cols": {
    "lenName": 16,
    "lenType": 16,
    "lenVar": 40
   },
   "kernels_config": {
    "python": {
     "delete_cmd_postfix": "",
     "delete_cmd_prefix": "del ",
     "library": "var_list.py",
     "varRefreshCmd": "print(var_dic_list())"
    },
    "r": {
     "delete_cmd_postfix": ") ",
     "delete_cmd_prefix": "rm(",
     "library": "var_list.r",
     "varRefreshCmd": "cat(var_dic_list()) "
    }
   },
   "types_to_exclude": [
    "module",
    "function",
    "builtin_function_or_method",
    "instance",
    "_Feature"
   ],
   "window_display": false
  }
 },
 "nbformat": 4,
 "nbformat_minor": 5
}
