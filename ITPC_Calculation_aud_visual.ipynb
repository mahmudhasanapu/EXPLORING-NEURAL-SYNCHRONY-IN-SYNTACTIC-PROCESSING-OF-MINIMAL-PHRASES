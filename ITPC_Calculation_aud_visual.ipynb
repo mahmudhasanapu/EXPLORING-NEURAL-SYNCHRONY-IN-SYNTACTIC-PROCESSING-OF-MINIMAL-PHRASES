{
 "cells": [
  {
   "cell_type": "code",
   "execution_count": null,
   "id": "9cc09d98",
   "metadata": {},
   "outputs": [],
   "source": [
    "import os\n",
    "import numpy as np\n",
    "import scipy.io\n",
    "import mne\n",
    "from mne.time_frequency import tfr_multitaper\n",
    "from sklearn.utils import resample\n",
    "import matplotlib.pyplot as plt"
   ]
  },
  {
   "cell_type": "code",
   "execution_count": null,
   "id": "73ba4434",
   "metadata": {},
   "outputs": [],
   "source": [
    "# Set directories\n",
    "data_directory = 'E:\\Research\\EEG_Data\\preprocessed_EEG_data\\pre_aud-vis'\n",
    "fieldTripDirectory = 'C:/Users/Mahmud/Documents/MATLAB/fieldtrip-20220729'\n",
    "\n",
    "# Load files\n",
    "files = [f for f in os.listdir(data_directory) if f.startswith('data_final') and f.endswith('.mat')]\n",
    "nsubj = len(files)\n",
    "data_list = []\n",
    "\n",
    "def load_data(file_path):\n",
    "    mat = scipy.io.loadmat(file_path)\n",
    "    return mat['data_final']"
   ]
  },
  {
   "cell_type": "code",
   "execution_count": null,
   "id": "b23107ea",
   "metadata": {},
   "outputs": [],
   "source": [
    "# Process each subject's data\n",
    "for file in files:\n",
    "    data_final = load_data(os.path.join(data_directory, file))\n",
    "    \n",
    "    # Extract different trial types based on 'trialinfo' values\n",
    "    nona_trials = np.where(data_final['trialinfo'][:, 0] == 11)[0]\n",
    "    unia_trials = np.where(data_final['trialinfo'][:, 0] == 21)[0]\n",
    "    univ_trials = np.where(data_final['trialinfo'][:, 0] == 31)[0]\n",
    "    nonv_trials = np.where(data_final['trialinfo'][:, 0] == 41)[0]\n",
    "    \n",
    "    # Create MNE Raw object from the data for each condition\n",
    "    nona_raw = mne.io.RawArray(data_final['data'][:, nona_trials], mne.create_info(ch_names=list(data_final['label']), sfreq=1000))\n",
    "    unia_raw = mne.io.RawArray(data_final['data'][:, unia_trials], mne.create_info(ch_names=list(data_final['label']), sfreq=1000))\n",
    "    univ_raw = mne.io.RawArray(data_final['data'][:, univ_trials], mne.create_info(ch_names=list(data_final['label']), sfreq=1000))\n",
    "    nonv_raw = mne.io.RawArray(data_final['data'][:, nonv_trials], mne.create_info(ch_names=list(data_final['label']), sfreq=1000))\n",
    "    "
   ]
  },
  {
   "cell_type": "code",
   "execution_count": null,
   "id": "fddcdf83",
   "metadata": {},
   "outputs": [],
   "source": [
    "    # Frequency analysis using multitaper method\n",
    "    freqs = np.arange(0.25, 8.25, 0.25)\n",
    "    n_cycles = 3 / freqs\n",
    "    \n",
    "    nona_tfr = tfr_multitaper(nona_raw, freqs=freqs, n_cycles=n_cycles, time_bandwidth=2.0, return_itc=False)\n",
    "    unia_tfr = tfr_multitaper(unia_raw, freqs=freqs, n_cycles=n_cycles, time_bandwidth=2.0, return_itc=False)\n",
    "    univ_tfr = tfr_multitaper(univ_raw, freqs=freqs, n_cycles=n_cycles, time_bandwidth=2.0, return_itc=False)\n",
    "    nonv_tfr = tfr_multitaper(nonv_raw, freqs=freqs, n_cycles=n_cycles, time_bandwidth=2.0, return_itc=False)\n",
    "    \n",
    "    # Baseline correction (decibel)\n",
    "    nona_tfr.apply_baseline((-3, 0), mode='logratio')\n",
    "    unia_tfr.apply_baseline((-3, 0), mode='logratio')\n",
    "    univ_tfr.apply_baseline((-3, 0), mode='logratio')\n",
    "    nonv_tfr.apply_baseline((-3, 0), mode='logratio')\n",
    "    \n",
    "    data_list.append((nona_tfr, unia_tfr, univ_tfr, nonv_tfr))"
   ]
  },
  {
   "cell_type": "code",
   "execution_count": null,
   "id": "89c87e6d",
   "metadata": {},
   "outputs": [],
   "source": [
    "# Compute Inter-Trial Phase Coherence (ITC)\n",
    "def compute_itc(tfr):\n",
    "    F = tfr.data  # shape (n_channels, n_freqs, n_times)\n",
    "    N = F.shape[0]  # number of trials\n",
    "    itc = np.abs(np.sum(F / np.abs(F), axis=0)) / N\n",
    "    return itc ** 2 * N  # ITPCz\n",
    "\n",
    "itc_list = []\n",
    "for nona_tfr, unia_tfr, univ_tfr, nonv_tfr in data_list:\n",
    "    nona_itc = compute_itc(nona_tfr)\n",
    "    unia_itc = compute_itc(unia_tfr)\n",
    "    univ_itc = compute_itc(univ_tfr)\n",
    "    nonv_itc = compute_itc(nonv_tfr)\n",
    "    itc_list.append((nona_itc, unia_itc, univ_itc, nonv_itc))"
   ]
  },
  {
   "cell_type": "code",
   "execution_count": null,
   "id": "31235285",
   "metadata": {},
   "outputs": [],
   "source": [
    "# Grand average ITC\n",
    "def grand_average(itc_data):\n",
    "    return np.mean(np.array(itc_data), axis=0)\n",
    "\n",
    "nona_itc_avg = grand_average([itc[0] for itc in itc_list])\n",
    "unia_itc_avg = grand_average([itc[1] for itc in itc_list])\n",
    "univ_itc_avg = grand_average([itc[2] for itc in itc_list])\n",
    "nonv_itc_avg = grand_average([itc[3] for itc in itc_list])"
   ]
  },
  {
   "cell_type": "code",
   "execution_count": null,
   "id": "cad60ba4",
   "metadata": {},
   "outputs": [],
   "source": [
    "# Statistical analysis using permutation test\n",
    "def permutation_test(data1, data2, n_permutations=2000, alpha=0.05):\n",
    "    observed_diff = np.mean(data1) - np.mean(data2)\n",
    "    permutation_diffs = []\n",
    "    \n",
    "    combined = np.concatenate((data1, data2))\n",
    "    for _ in range(n_permutations):\n",
    "        permuted = resample(combined, replace=False)\n",
    "        perm_data1 = permuted[:len(data1)]\n",
    "        perm_data2 = permuted[len(data1):]\n",
    "        permutation_diffs.append(np.mean(perm_data1) - np.mean(perm_data2))\n",
    "    \n",
    "    p_value = np.sum(np.abs(permutation_diffs) >= np.abs(observed_diff)) / n_permutations\n",
    "    return observed_diff, p_value\n",
    "\n",
    "# Run statistical test\n",
    "observed_diff, p_value = permutation_test(unia_itc_avg, nona_itc_avg)\n",
    "print(f'Observed difference: {observed_diff:.4f}, p-value: {p_value:.4f}')"
   ]
  },
  {
   "cell_type": "code",
   "execution_count": null,
   "id": "1e9550dc",
   "metadata": {},
   "outputs": [],
   "source": [
    "# Visualize ITC\n",
    "def plot_itc(itc_data, freqs, times, title):\n",
    "    plt.figure(figsize=(10, 5))\n",
    "    plt.imshow(itc_data, aspect='auto', extent=[times[0], times[-1], freqs[0], freqs[-1]], origin='lower', cmap='viridis')\n",
    "    plt.colorbar(label='ITC')\n",
    "    plt.title(title)\n",
    "    plt.xlabel('Time (s)')\n",
    "    plt.ylabel('Frequency (Hz)')\n",
    "    plt.show()\n",
    "\n",
    "# Plot ITC for each condition\n",
    "plot_itc(nona_itc_avg, freqs, nona_tfr.times, 'ITC for Nona Trials')\n",
    "plot_itc(unia_itc_avg, freqs, unia_tfr.times, 'ITC for Unia Trials')\n",
    "plot_itc(univ_itc_avg, freqs, univ_tfr.times, 'ITC for Univ Trials')\n",
    "plot_itc(nonv_itc_avg, freqs, nonv_tfr.times, 'ITC for Nonv Trials')"
   ]
  }
 ],
 "metadata": {
  "kernelspec": {
   "display_name": "Python 3 (ipykernel)",
   "language": "python",
   "name": "python3"
  },
  "language_info": {
   "codemirror_mode": {
    "name": "ipython",
    "version": 3
   },
   "file_extension": ".py",
   "mimetype": "text/x-python",
   "name": "python",
   "nbconvert_exporter": "python",
   "pygments_lexer": "ipython3",
   "version": "3.11.5"
  },
  "varInspector": {
   "cols": {
    "lenName": 16,
    "lenType": 16,
    "lenVar": 40
   },
   "kernels_config": {
    "python": {
     "delete_cmd_postfix": "",
     "delete_cmd_prefix": "del ",
     "library": "var_list.py",
     "varRefreshCmd": "print(var_dic_list())"
    },
    "r": {
     "delete_cmd_postfix": ") ",
     "delete_cmd_prefix": "rm(",
     "library": "var_list.r",
     "varRefreshCmd": "cat(var_dic_list()) "
    }
   },
   "types_to_exclude": [
    "module",
    "function",
    "builtin_function_or_method",
    "instance",
    "_Feature"
   ],
   "window_display": false
  }
 },
 "nbformat": 4,
 "nbformat_minor": 5
}
