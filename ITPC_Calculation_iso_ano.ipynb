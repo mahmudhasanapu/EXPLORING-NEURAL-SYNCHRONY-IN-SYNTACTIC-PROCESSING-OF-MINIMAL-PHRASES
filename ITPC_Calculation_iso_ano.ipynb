{
 "cells": [
  {
   "cell_type": "code",
   "execution_count": null,
   "id": "b8ed68f3",
   "metadata": {},
   "outputs": [],
   "source": [
    "import os\n",
    "import numpy as np\n",
    "import scipy.io\n",
    "import mne\n",
    "from mne.time_frequency import tfr_multitaper\n",
    "from sklearn.utils import resample\n",
    "import matplotlib.pyplot as plt"
   ]
  },
  {
   "cell_type": "code",
   "execution_count": null,
   "id": "28aa557e",
   "metadata": {},
   "outputs": [],
   "source": [
    "# Set directories\n",
    "data_directory = 'E:\\Research\\EEG_Data\\preprocessed_EEG_data\\pre_iso_ano' \n",
    "files = [f for f in os.listdir(data_directory) if f.startswith('data_final') and f.endswith('.mat')]\n",
    "nsubj = len(files)\n",
    "data_list = []\n",
    "\n",
    "def load_data(file_path):\n",
    "    mat = scipy.io.loadmat(file_path)\n",
    "    return mat['data_final']\n",
    "\n",
    "# Function to compute ITC\n",
    "def compute_itc(tfr_data):\n",
    "    F = tfr_data.data  # shape (n_epochs, n_channels, n_freqs, n_times)\n",
    "    N = F.shape[0]  # number of trials\n",
    "    itc = np.abs(np.sum(F / np.abs(F), axis=0)) / N\n",
    "    return itc ** 2 * N  # ITPCz calculation"
   ]
  },
  {
   "cell_type": "code",
   "execution_count": null,
   "id": "f18c91f5",
   "metadata": {},
   "outputs": [],
   "source": [
    "# Process each subject's data\n",
    "for file in files:\n",
    "    data_final = load_data(os.path.join(data_directory, file))\n",
    "    \n",
    "    # Extract trial indices based on conditions\n",
    "    trials_uni_iso = np.where(data_final['trialinfo'][:, 0] < 31)[0]\n",
    "    trials_non_iso = np.where((data_final['trialinfo'][:, 0] > 30) & (data_final['trialinfo'][:, 0] < 61))[0]\n",
    "    trials_uni_ana = np.where((data_final['trialinfo'][:, 0] > 60) & (data_final['trialinfo'][:, 0] < 91))[0]\n",
    "    trials_non_ana = np.where((data_final['trialinfo'][:, 0] > 90) & (data_final['trialinfo'][:, 0] < 121))[0]\n",
    "    \n",
    "    # Define channel names and create MNE Info structure\n",
    "    ch_names = [str(ch[0]) for ch in data_final['label'][0]]\n",
    "    sfreq = 1000  # Assuming a sampling frequency of 1000 Hz\n",
    "    info = mne.create_info(ch_names=ch_names, sfreq=sfreq, ch_types='eeg')\n",
    "\n",
    "    # Create MNE Raw objects for each condition\n",
    "    uni_iso_raw = mne.io.RawArray(data_final['data'][:, trials_uni_iso], info)\n",
    "    non_iso_raw = mne.io.RawArray(data_final['data'][:, trials_non_iso], info)\n",
    "    uni_ana_raw = mne.io.RawArray(data_final['data'][:, trials_uni_ana], info)\n",
    "    non_ana_raw = mne.io.RawArray(data_final['data'][:, trials_non_ana], info)"
   ]
  },
  {
   "cell_type": "code",
   "execution_count": null,
   "id": "98e0d96b",
   "metadata": {},
   "outputs": [],
   "source": [
    "    \n",
    "    # Frequency analysis parameters\n",
    "    freqs = np.arange(0.25, 8.25, 0.25)\n",
    "    n_cycles = 3 / freqs\n",
    "    \n",
    "    # Compute time-frequency representation (TFR) using multitaper method\n",
    "    uni_iso_tfr = tfr_multitaper(uni_iso_raw, freqs=freqs, n_cycles=n_cycles, time_bandwidth=2.0, return_itc=False)\n",
    "    non_iso_tfr = tfr_multitaper(non_iso_raw, freqs=freqs, n_cycles=n_cycles, time_bandwidth=2.0, return_itc=False)\n",
    "    uni_ana_tfr = tfr_multitaper(uni_ana_raw, freqs=freqs, n_cycles=n_cycles, time_bandwidth=2.0, return_itc=False)\n",
    "    non_ana_tfr = tfr_multitaper(non_ana_raw, freqs=freqs, n_cycles=n_cycles, time_bandwidth=2.0, return_itc=False)\n",
    "    \n",
    "    # Baseline correction (logratio)\n",
    "    baseline = (-3, 0)\n",
    "    uni_iso_tfr.apply_baseline(baseline, mode='logratio')\n",
    "    non_iso_tfr.apply_baseline(baseline, mode='logratio')\n",
    "    uni_ana_tfr.apply_baseline(baseline, mode='logratio')\n",
    "    non_ana_tfr.apply_baseline(baseline, mode='logratio')"
   ]
  },
  {
   "cell_type": "code",
   "execution_count": null,
   "id": "150cc2ba",
   "metadata": {},
   "outputs": [],
   "source": [
    "    \n",
    "    # Compute ITC\n",
    "    uni_iso_itc = compute_itc(uni_iso_tfr)\n",
    "    non_iso_itc = compute_itc(non_iso_tfr)\n",
    "    uni_ana_itc = compute_itc(uni_ana_tfr)\n",
    "    non_ana_itc = compute_itc(non_ana_tfr)\n",
    "    \n",
    "    # Save ITC data for each condition\n",
    "    data_list.append((uni_iso_itc, non_iso_itc, uni_ana_itc, non_ana_itc))\n",
    "\n",
    "# Compute the grand average ITC\n",
    "def grand_average(itc_list):\n",
    "    return np.mean(np.array(itc_list), axis=0)\n",
    "\n",
    "uni_iso_itc_avg = grand_average([itc[0] for itc in data_list])\n",
    "non_iso_itc_avg = grand_average([itc[1] for itc in data_list])\n",
    "uni_ana_itc_avg = grand_average([itc[2] for itc in data_list])\n",
    "non_ana_itc_avg = grand_average([itc[3] for itc in data_list])"
   ]
  },
  {
   "cell_type": "code",
   "execution_count": null,
   "id": "426c357e",
   "metadata": {},
   "outputs": [],
   "source": [
    "# Statistical analysis (permutation test)\n",
    "def permutation_test(data1, data2, n_permutations=2000, alpha=0.05):\n",
    "    observed_diff = np.mean(data1) - np.mean(data2)\n",
    "    permutation_diffs = []\n",
    "    \n",
    "    combined = np.concatenate((data1, data2))\n",
    "    for _ in range(n_permutations):\n",
    "        permuted = resample(combined, replace=False)\n",
    "        perm_data1 = permuted[:len(data1)]\n",
    "        perm_data2 = permuted[len(data1):]\n",
    "        permutation_diffs.append(np.mean(perm_data1) - np.mean(perm_data2))\n",
    "    \n",
    "    p_value = np.sum(np.abs(permutation_diffs) >= np.abs(observed_diff)) / n_permutations\n",
    "    return observed_diff, p_value\n",
    "\n",
    "# Run statistical test\n",
    "observed_diff, p_value = permutation_test(uni_iso_itc_avg, non_iso_itc_avg)\n",
    "print(f'Observed difference: {observed_diff:.4f}, p-value: {p_value:.4f}')"
   ]
  },
  {
   "cell_type": "code",
   "execution_count": null,
   "id": "4c526315",
   "metadata": {},
   "outputs": [],
   "source": [
    "# Visualize ITC data\n",
    "def plot_itc(itc_data, freqs, times, title):\n",
    "    plt.figure(figsize=(10, 5))\n",
    "    plt.imshow(itc_data, aspect='auto', extent=[times[0], times[-1], freqs[0], freqs[-1]], origin='lower', cmap='viridis')\n",
    "    plt.colorbar(label='ITC')\n",
    "    plt.title(title)\n",
    "    plt.xlabel('Time (s)')\n",
    "    plt.ylabel('Frequency (Hz)')\n",
    "    plt.show()\n",
    "\n",
    "# Plot ITC for each condition\n",
    "plot_itc(uni_iso_itc_avg, freqs, uni_iso_tfr.times, 'ITC for Uni Iso Trials')\n",
    "plot_itc(non_iso_itc_avg, freqs, non_iso_tfr.times, 'ITC for Non Iso Trials')\n",
    "plot_itc(uni_ana_itc_avg, freqs, uni_ana_tfr.times, 'ITC for Uni Ana Trials')\n",
    "plot_itc(non_ana_itc_avg, freqs, non_ana_tfr.times, 'ITC for Non Ana Trials')"
   ]
  }
 ],
 "metadata": {
  "kernelspec": {
   "display_name": "Python 3 (ipykernel)",
   "language": "python",
   "name": "python3"
  },
  "language_info": {
   "codemirror_mode": {
    "name": "ipython",
    "version": 3
   },
   "file_extension": ".py",
   "mimetype": "text/x-python",
   "name": "python",
   "nbconvert_exporter": "python",
   "pygments_lexer": "ipython3",
   "version": "3.11.5"
  },
  "varInspector": {
   "cols": {
    "lenName": 16,
    "lenType": 16,
    "lenVar": 40
   },
   "kernels_config": {
    "python": {
     "delete_cmd_postfix": "",
     "delete_cmd_prefix": "del ",
     "library": "var_list.py",
     "varRefreshCmd": "print(var_dic_list())"
    },
    "r": {
     "delete_cmd_postfix": ") ",
     "delete_cmd_prefix": "rm(",
     "library": "var_list.r",
     "varRefreshCmd": "cat(var_dic_list()) "
    }
   },
   "types_to_exclude": [
    "module",
    "function",
    "builtin_function_or_method",
    "instance",
    "_Feature"
   ],
   "window_display": false
  }
 },
 "nbformat": 4,
 "nbformat_minor": 5
}
