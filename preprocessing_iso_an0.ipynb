{
 "cells": [
  {
   "cell_type": "code",
   "execution_count": null,
   "id": "ff24547b",
   "metadata": {},
   "outputs": [],
   "source": [
    "import os\n",
    "import numpy as np\n",
    "import mne\n",
    "from mne.io import read_raw_cnt\n",
    "from mne.preprocessing import ICA, create_eog_epochs\n",
    "from mne.channels import make_standard_montage\n",
    "from mne import Epochs, concatenate_epochs\n",
    "import matplotlib.pyplot as plt"
   ]
  },
  {
   "cell_type": "code",
   "execution_count": null,
   "id": "50ac0292",
   "metadata": {},
   "outputs": [],
   "source": [
    "# Set directories\n",
    "field_trip_directory = r'C:\\Users\\Mahmud\\Documents\\fieldtrip-20220729'\n",
    "my_directory = r'E:\\Research\\EEG_Data\\ano'\n",
    "my_save_directory = input(\"Enter the directory where you want to save the preprocessed data: \")\n",
    "\n",
    "# Set participant ID\n",
    "participant_id = input(\"Input participant ID number: \")\n",
    "\n",
    "# Read file list\n",
    "file_pattern = f'{participant_id}*.cnt'\n",
    "cnt_files = [f for f in os.listdir(my_directory) if f.endswith('.cnt') and f.startswith(participant_id)]\n",
    "\n",
    "# Define trial markers and parameters\n",
    "trial_markers = np.arange(0, 121)\n",
    "my_prestim = 3  # seconds\n",
    "my_poststim = 4  # seconds\n",
    "block_size = 7  # block size in seconds for visualization\n",
    "\n",
    "# Load the electrode layout\n",
    "elec_aligned = mne.channels.make_standard_montage('standard_1005')\n",
    "\n",
    "# Initialize a list to store processed data\n",
    "processed_data_list = []\n",
    "\n",
    "# Loop through each file and preprocess\n",
    "for cnt_file in cnt_files:\n",
    "    file_path = os.path.join(my_directory, cnt_file)\n",
    "    print(f\"Processing file: {file_path}\")\n",
    "    \n",
    "    # Load the raw CNT file\n",
    "    raw = read_raw_cnt(file_path, preload=True)\n",
    "    \n",
    "    # Drop unwanted channels\n",
    "    drop_channels = ['M1', 'M2', 'EMG', 'REF', 'COMNT', 'SCALE']\n",
    "    raw.drop_channels([ch for ch in drop_channels if ch in raw.ch_names])\n",
    "    \n",
    "    # Apply high-pass filter\n",
    "    raw.filter(l_freq=0.1, h_freq=None, method='iir', iir_params=dict(order=1, ftype='butter'))\n",
    "    \n",
    "    # Apply low-pass filter\n",
    "    raw.filter(l_freq=None, h_freq=100, method='iir', iir_params=dict(order=1, ftype='butter'))\n",
    "    \n",
    "    # Define events\n",
    "    events = mne.find_events(raw, stim_channel='STI 014', output='onset', min_duration=0.002)\n",
    "    \n",
    "    # Create epochs based on events\n",
    "    event_id = {str(i): i for i in trial_markers}\n",
    "    epochs = mne.Epochs(raw, events, event_id=event_id, tmin=-my_prestim, tmax=my_poststim, baseline=None, preload=True)\n",
    "    \n",
    "    # Resample epochs to 500 Hz\n",
    "    epochs_resampled = epochs.copy().resample(500)\n",
    "    \n",
    "    processed_data_list.append(epochs_resampled)"
   ]
  },
  {
   "cell_type": "code",
   "execution_count": null,
   "id": "9302a47c",
   "metadata": {},
   "outputs": [],
   "source": [
    "# Concatenate all epochs from different files\n",
    "all_epochs = concatenate_epochs(processed_data_list)\n",
    "\n",
    "# Visualize the data to identify bad channels\n",
    "all_epochs.plot(n_channels=64, scalings='auto', block=True)\n",
    "\n",
    "# List bad channels manually after inspecting the plot\n",
    "my_bad_channels = [\"PO7\", \"O2\", \"PZ\", \"FP1\", \"PO8\", \"C2\", \"CB2\"]\n",
    "\n",
    "# Interpolate bad channels\n",
    "all_epochs.info['bads'] = my_bad_channels\n",
    "all_epochs.interpolate_bads(reset_bads=False)\n",
    "\n",
    "# Re-reference the data to average reference\n",
    "all_epochs.set_eeg_reference('average', projection=True)\n",
    "\n",
    "# ICA for artifact removal\n",
    "ica = ICA(n_components=len(all_epochs.info['ch_names']) - 1, method='fastica', random_state=42)"
   ]
  },
  {
   "cell_type": "code",
   "execution_count": null,
   "id": "fe8f9114",
   "metadata": {},
   "outputs": [],
   "source": [
    "ica.fit(all_epochs)\n",
    "\n",
    "# Plot ICA components to identify artifacts (e.g., eye blinks)\n",
    "ica.plot_components(inst=all_epochs)\n",
    "\n",
    "# List bad components manually after inspecting the plot\n",
    "my_bad_components = [0, 1, 4, 11, 15, 38, 46, 43, 56]  # Example bad components\n",
    "\n",
    "# Remove the bad components\n",
    "ica.exclude = my_bad_components\n",
    "ica.apply(all_epochs)\n",
    "\n",
    "# Save the final preprocessed data\n",
    "save_name = f'data_final_{participant_id}.fif'\n",
    "all_epochs.save(os.path.join(my_save_directory, save_name), overwrite=True)\n",
    "\n",
    "# Visualization of the final data to check artifacts removal\n",
    "all_epochs.plot(n_channels=64, scalings='auto', block=True)\n",
    "\n",
    "print(f\"Final preprocessed data saved as {save_name} in {my_save_directory}\")"
   ]
  }
 ],
 "metadata": {
  "kernelspec": {
   "display_name": "Python 3 (ipykernel)",
   "language": "python",
   "name": "python3"
  },
  "language_info": {
   "codemirror_mode": {
    "name": "ipython",
    "version": 3
   },
   "file_extension": ".py",
   "mimetype": "text/x-python",
   "name": "python",
   "nbconvert_exporter": "python",
   "pygments_lexer": "ipython3",
   "version": "3.11.5"
  },
  "varInspector": {
   "cols": {
    "lenName": 16,
    "lenType": 16,
    "lenVar": 40
   },
   "kernels_config": {
    "python": {
     "delete_cmd_postfix": "",
     "delete_cmd_prefix": "del ",
     "library": "var_list.py",
     "varRefreshCmd": "print(var_dic_list())"
    },
    "r": {
     "delete_cmd_postfix": ") ",
     "delete_cmd_prefix": "rm(",
     "library": "var_list.r",
     "varRefreshCmd": "cat(var_dic_list()) "
    }
   },
   "types_to_exclude": [
    "module",
    "function",
    "builtin_function_or_method",
    "instance",
    "_Feature"
   ],
   "window_display": false
  }
 },
 "nbformat": 4,
 "nbformat_minor": 5
}
