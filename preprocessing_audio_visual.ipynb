{
 "cells": [
  {
   "cell_type": "code",
   "execution_count": null,
   "id": "89bdd540",
   "metadata": {},
   "outputs": [],
   "source": [
    "import os\n",
    "import numpy as np\n",
    "import mne\n",
    "from mne.io import read_raw_cnt\n",
    "import soundfile as sf"
   ]
  },
  {
   "cell_type": "code",
   "execution_count": null,
   "id": "534e826c",
   "metadata": {},
   "outputs": [],
   "source": [
    "# Set directories\n",
    "field_trip_directory = r'C:\\Users\\Mahmud\\Documents\\fieldtrip-20220729'\n",
    "my_directory = r'E:\\Research\\EEG_Data\\ano'\n",
    "\n",
    "# Get Participant ID\n",
    "participant_id = input(\"Input participant ID number: \")\n",
    "\n",
    "# Set file path and data list\n",
    "data_list = [f for f in os.listdir(my_directory) if f.startswith('2029') and 'ano' in f and f.endswith('.cnt')]\n",
    "\n",
    "# Initialize a list to store the processed data\n",
    "processed_data_list = []\n",
    "\n",
    "# Loop through each file in the data list and preprocess it\n",
    "for file in data_list:\n",
    "    file_path = os.path.join(my_directory, file)\n",
    "    print(f\"Processing file: {file_path}\")\n",
    "    \n",
    "    # Read the CNT file\n",
    "    raw = read_raw_cnt(file_path, preload=True)\n",
    "\n",
    "    # Drop unwanted channels\n",
    "    drop_channels = ['M1', 'M2', 'EMG', 'REF', 'COMNT', 'SCALE']\n",
    "    raw.drop_channels([ch for ch in drop_channels if ch in raw.ch_names])\n",
    "\n",
    "    # Set the reference\n",
    "    ref_channels = [ch for ch in raw.ch_names if ch not in ['EKG', 'EMG', 'HEO', 'VEO']]\n",
    "    raw.set_eeg_reference(ref_channels, projection=False)\n",
    "\n",
    "    # Apply notch filter at 60 Hz\n",
    "    raw.notch_filter(freqs=60)\n",
    "\n",
    "    # High-pass filter\n",
    "    raw.filter(l_freq=0.1, h_freq=None, fir_design='butterworth', filter_length='auto')\n",
    "\n",
    "    # Low-pass filter\n",
    "    raw.filter(l_freq=None, h_freq=100, fir_design='butterworth', filter_length='auto')\n",
    "\n",
    "    # Define events\n",
    "    events = mne.find_events(raw, stim_channel='STI 014', output='onset', min_duration=0.002)\n",
    "    \n",
    "    # Define epochs based on events\n",
    "    event_id = {str(i): i for i in range(121)}  # Trial markers\n",
    "    tmin, tmax = -3, 4  # Pre-stimulus and post-stimulus\n",
    "    epochs = mne.Epochs(raw, events, event_id=event_id, tmin=tmin, tmax=tmax, baseline=None, preload=True)\n",
    "\n",
    "    # Resample the data to 500 Hz\n",
    "    epochs_resampled = epochs.copy().resample(500, npad=\"auto\")\n",
    "    \n",
    "    processed_data_list.append(epochs_resampled)"
   ]
  },
  {
   "cell_type": "code",
   "execution_count": null,
   "id": "920a3f96",
   "metadata": {},
   "outputs": [],
   "source": [
    "# Concatenate all epochs\n",
    "all_epochs = mne.concatenate_epochs(processed_data_list)\n",
    "\n",
    "# Save the preprocessed data\n",
    "save_directory = input(\"Enter the directory where you want to save the preprocessed data: \")\n",
    "save_name = f'data_final_iso_{participant_id}.fif'\n",
    "all_epochs.save(os.path.join(save_directory, save_name), overwrite=True)\n",
    "\n",
    "# Count how many trials there are for a specific condition (e.g., condition 21)\n",
    "condition_count = np.sum(all_epochs.events[:, 2] == 21)\n",
    "print(f\"Number of trials for condition 21: {condition_count}\")"
   ]
  }
 ],
 "metadata": {
  "kernelspec": {
   "display_name": "Python 3 (ipykernel)",
   "language": "python",
   "name": "python3"
  },
  "language_info": {
   "codemirror_mode": {
    "name": "ipython",
    "version": 3
   },
   "file_extension": ".py",
   "mimetype": "text/x-python",
   "name": "python",
   "nbconvert_exporter": "python",
   "pygments_lexer": "ipython3",
   "version": "3.11.5"
  },
  "varInspector": {
   "cols": {
    "lenName": 16,
    "lenType": 16,
    "lenVar": 40
   },
   "kernels_config": {
    "python": {
     "delete_cmd_postfix": "",
     "delete_cmd_prefix": "del ",
     "library": "var_list.py",
     "varRefreshCmd": "print(var_dic_list())"
    },
    "r": {
     "delete_cmd_postfix": ") ",
     "delete_cmd_prefix": "rm(",
     "library": "var_list.r",
     "varRefreshCmd": "cat(var_dic_list()) "
    }
   },
   "types_to_exclude": [
    "module",
    "function",
    "builtin_function_or_method",
    "instance",
    "_Feature"
   ],
   "window_display": false
  }
 },
 "nbformat": 4,
 "nbformat_minor": 5
}
